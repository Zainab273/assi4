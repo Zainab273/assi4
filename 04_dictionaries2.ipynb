{
  "nbformat": 4,
  "nbformat_minor": 0,
  "metadata": {
    "colab": {
      "provenance": [],
      "include_colab_link": true
    },
    "kernelspec": {
      "name": "python3",
      "display_name": "Python 3"
    },
    "language_info": {
      "name": "python"
    }
  },
  "cells": [
    {
      "cell_type": "markdown",
      "metadata": {
        "id": "view-in-github",
        "colab_type": "text"
      },
      "source": [
        "<a href=\"https://colab.research.google.com/github/Zainab273/assi4/blob/main/04_dictionaries2.ipynb\" target=\"_parent\"><img src=\"https://colab.research.google.com/assets/colab-badge.svg\" alt=\"Open In Colab\"/></a>"
      ]
    },
    {
      "cell_type": "code",
      "source": [
        "print(\"00_count_nums\")\n",
        "\n",
        "def user_input():\n",
        "  count_dict={}\n",
        "\n",
        "  while True:\n",
        "    number= input(\"Enter a number (or Exit to quit):\")\n",
        "    if number.title() =='Exit':\n",
        "      break\n",
        "    if number.isdigit():\n",
        "      number=int(number)\n",
        "      count_dict[number]= count_dict.get(number,0)+1\n",
        "    else:\n",
        "      print(\"Please Enter valid number or Exit.\")\n",
        "\n",
        "  return count_dict\n",
        "\n",
        "def apears_number(count_dict):\n",
        "  print(\"\\n Number Counts:\")\n",
        "  for key,value in count_dict.items():\n",
        "    print(f'{key} appears {value} times')\n",
        "if __name__ == \"__main__\":\n",
        "  counts = user_input()\n",
        "  apears_number(counts)"
      ],
      "metadata": {
        "id": "K_tZ6NcG4OMD"
      },
      "execution_count": null,
      "outputs": []
    },
    {
      "cell_type": "code",
      "source": [
        "print(\"01_phonebook\")\n",
        "\n",
        "def add_contact(phonebook):\n",
        "  name= input(\"Enter contact name:\")\n",
        "  number= input(\"Enter contact number:\")\n",
        "\n",
        "  if name in phonebook:\n",
        "    print(\"Contact already exists.\")\n",
        "  else:\n",
        "    phonebook[name]= number\n",
        "    print(f\"{name} added succefully\")\n",
        "\n",
        "def search_contact(phonebook):\n",
        "  name = input(\"Enter a contact name to search:\")\n",
        "  if name in phonebook:\n",
        "    print(f\"{name}'s number is {phonebook[name]}\")\n",
        "  else:\n",
        "    print(f\"{name} not found in phone book\")\n",
        "\n",
        "def delete_contact(phonebook):\n",
        "  name=input(\"Enter a number to delete:\")\n",
        "  if name in phonebook:\n",
        "    del phonebook[name]\n",
        "    print(f\"{name} deleted succefully\")\n",
        "  else:\n",
        "    print(f\"{name} not found in phone book\")\n",
        "\n",
        "def display_contact(phonebook):\n",
        "  if phonebook:\n",
        "    print(\"\\n Contact list\")\n",
        "    for name,number in phonebook.items():\n",
        "      print(f\"{name}:{number}\")\n",
        "  else:\n",
        "    print(\"Phone book is empty\")\n",
        "\n",
        "\n",
        "if __name__ == \"__main__\":\n",
        "  phonebook ={}\n",
        "\n",
        "  while True:\n",
        "    print(\"\\n Phonebook Menu:\")\n",
        "    print(\"1. Add Contact\")\n",
        "    print(\"2. Search Contact\")\n",
        "    print(\"3. Delete Contact\")\n",
        "    print(\"4. Display Contact\")\n",
        "    print(\"5. Exit\")\n",
        "\n",
        "    choice = input(\"Enter your choice(1-5): \")\n",
        "    if choice == '1':\n",
        "      add_contact(phonebook)\n",
        "    elif choice == '2':\n",
        "      search_contact(phonebook)\n",
        "    elif choice == '3':\n",
        "      delete_contact(phonebook)\n",
        "    elif choice == '4':\n",
        "      display_contact(phonebook)\n",
        "    elif choice == '5':\n",
        "      print(\"Exiting Phonebook\")\n",
        "      break\n",
        "\n"
      ],
      "metadata": {
        "id": "CSbcD_fd4RrC"
      },
      "execution_count": null,
      "outputs": []
    },
    {
      "cell_type": "code",
      "execution_count": null,
      "metadata": {
        "colab": {
          "base_uri": "https://localhost:8080/"
        },
        "id": "7QMYi8yU3bn9",
        "outputId": "8a5646f6-3c6d-446a-da92-3f8629c063e2"
      },
      "outputs": [
        {
          "output_type": "stream",
          "name": "stdout",
          "text": [
            "02_pop_up_shop\n",
            "Available fruits and prices (per unit):\n",
            "Apple: $1.5\n",
            "Durian: $2.5\n",
            "Jackfruit: $6.3\n",
            "Kiwi: $8.99\n",
            "Rambutan: $10.1\n",
            "Mango: $2.22\n",
            "\n",
            "Enter quantity for each fruit (press Enter to skip):\n",
            "Apple: apple\n",
            "Invalid input for apple, skipping.\n",
            "Durian: 2\n",
            "Jackfruit: 6\n",
            "Kiwi: \n",
            "Rambutan: 5\n",
            "Mango: 1\n",
            "\n",
            "Your purchase summary:\n",
            "2 x durian = $5.00\n",
            "6 x jackfruit = $37.80\n",
            "5 x rambutan = $50.50\n",
            "1 x mango = $2.22\n",
            "\n",
            "Total cost: $95.52\n"
          ]
        }
      ],
      "source": [
        "print(\"02_pop_up_shop\")\n",
        "\n",
        "def fruits_shop():\n",
        "    counts = {}\n",
        "    fruits = {\n",
        "        'apple': 1.5,\n",
        "        'durian': 2.5,\n",
        "        'jackfruit': 6.3,\n",
        "        'kiwi': 8.99,\n",
        "        'rambutan': 10.1,\n",
        "        'mango': 2.22\n",
        "    }\n",
        "\n",
        "    total = 0\n",
        "\n",
        "    print(\"Available fruits and prices (per unit):\")\n",
        "    for fruit, price in fruits.items():\n",
        "        print(f\"{fruit.capitalize()}: ${price}\")\n",
        "\n",
        "    print(\"\\nEnter quantity for each fruit (press Enter to skip):\")\n",
        "    for fruit in fruits:\n",
        "        qty = input(f\"{fruit.capitalize()}: \")\n",
        "        if qty.strip().isdigit():\n",
        "            qty = int(qty)\n",
        "            total += qty * fruits[fruit]\n",
        "            counts[fruit] = qty\n",
        "        elif qty.strip() != \"\":\n",
        "            print(f\"Invalid input for {fruit}, skipping.\")\n",
        "\n",
        "    print(\"\\nYour purchase summary:\")\n",
        "    for fruit, qty in counts.items():\n",
        "        print(f\"{qty} x {fruit} = ${qty * fruits[fruit]:.2f}\")\n",
        "\n",
        "    print(f\"\\nTotal cost: ${total:.2f}\")\n",
        "\n",
        "if __name__ == \"__main__\":\n",
        "    fruits_shop()\n"
      ]
    },
    {
      "cell_type": "code",
      "source": [
        "import hashlib\n",
        "print(\"03_powerful_passwords\")\n",
        "\n",
        "def hash_password(password):\n",
        "  return hashlib.sha256(password.encode()).hexdigest()\n",
        "\n",
        "stored_logins = {\n",
        "    \"user@exampke\": hash_password(\"123\"),\n",
        "    \"admin@example\": hash_password(\"456\")\n",
        "}\n",
        "\n",
        "def login(email, password):\n",
        "  if email in stored_logins:\n",
        "    return stored_logins[email] == hash_password(password)\n",
        "  return False\n",
        "\n",
        "if __name__ == \"__main__\":\n",
        "  email = input(\"Enter your email:\")\n",
        "  password = input(\"Enter your password:\")\n",
        "\n",
        "  if login(email,password):\n",
        "    print(\"Login successful\")\n",
        "  else:\n",
        "    print(\"invalid email or password\")"
      ],
      "metadata": {
        "colab": {
          "base_uri": "https://localhost:8080/"
        },
        "id": "-9mGte3b4oMi",
        "outputId": "b8689815-0d81-4dfb-880d-d71367ce470f"
      },
      "execution_count": null,
      "outputs": [
        {
          "output_type": "stream",
          "name": "stdout",
          "text": [
            "03_powerful_passwords\n",
            "Enter your email:ghkl\n",
            "Enter your password:13.\n",
            "invalid email and password\n"
          ]
        }
      ]
    }
  ]
}