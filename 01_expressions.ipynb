{
  "nbformat": 4,
  "nbformat_minor": 0,
  "metadata": {
    "colab": {
      "provenance": [],
      "include_colab_link": true
    },
    "kernelspec": {
      "name": "python3",
      "display_name": "Python 3"
    },
    "language_info": {
      "name": "python"
    }
  },
  "cells": [
    {
      "cell_type": "markdown",
      "metadata": {
        "id": "view-in-github",
        "colab_type": "text"
      },
      "source": [
        "<a href=\"https://colab.research.google.com/github/Zainab273/assi4/blob/main/01_expressions.ipynb\" target=\"_parent\"><img src=\"https://colab.research.google.com/assets/colab-badge.svg\" alt=\"Open In Colab\"/></a>"
      ]
    },
    {
      "cell_type": "code",
      "execution_count": null,
      "metadata": {
        "colab": {
          "base_uri": "https://localhost:8080/"
        },
        "id": "Q-JgPjj0WGO4",
        "outputId": "d596b4b7-df72-4655-9ff1-489d016b7964"
      },
      "outputs": [
        {
          "output_type": "stream",
          "name": "stdout",
          "text": [
            "01_dicesimulator\n",
            "die1 in main() starts as: 10\n",
            "Total of 2 dice : 6\n",
            "Total of 2 dice : 3\n",
            "Total of 2 dice : 7\n",
            "die1 in main() is: 10\n"
          ]
        }
      ],
      "source": [
        "import random\n",
        "\n",
        "print(\"01_dicesimulator\")\n",
        "\n",
        "def dice():\n",
        "  die1:int= random.randint(1,6)\n",
        "  die2:int=random.randint(1,6)\n",
        "  total:int = die1 + die2\n",
        "\n",
        "  print(f'Total of 2 dice : {total}')\n",
        "\n",
        "def main():\n",
        "  die1:int=10\n",
        "  print(\"die1 in main() starts as: \" + str(die1))\n",
        "  dice()\n",
        "  dice()\n",
        "  dice()\n",
        "  print(\"die1 in main() is: \" + str(die1))\n",
        "\n",
        "if __name__ =='__main__':\n",
        "  main()\n",
        "\n"
      ]
    },
    {
      "cell_type": "code",
      "source": [
        "print(\"02_e = m * c^2\")\n",
        "\n",
        "C: int = 299_792_458  # Speed of light in meters/second\n",
        "\n",
        "def calculate_energy():\n",
        "    mass = float(input(\"Enter mass in kilograms: \"))\n",
        "    joules_of_energy = mass * (C ** 2)\n",
        "    print(\"e = m * c^2\")\n",
        "    print(f\"m = {mass} kg\")\n",
        "    print(f\"C = {C} m/s\")\n",
        "    print(f\"{joules_of_energy} joules of energy!\")\n",
        "\n",
        "if __name__ == '__main__':\n",
        "    calculate_energy()\n"
      ],
      "metadata": {
        "colab": {
          "base_uri": "https://localhost:8080/"
        },
        "id": "9hQgYrqfZybM",
        "outputId": "097ab046-92f5-4f2f-ed57-8be45ae1277b"
      },
      "execution_count": null,
      "outputs": [
        {
          "output_type": "stream",
          "name": "stdout",
          "text": [
            "02_e = m * c^2\n",
            "Enter mass in kilograms: 100\n",
            "e = m * c^2\n",
            "m = 100.0 kg\n",
            "C = 299792458 m/s\n",
            "8.987551787368176e+18 joules of energy!\n"
          ]
        }
      ]
    },
    {
      "cell_type": "code",
      "source": [
        "print(\"03_feet_to_inches\")\n",
        "inches_in_feet:int=12\n",
        "\n",
        "def inc_feet():\n",
        "  feet: float = float(input(\"Enter number of feet: \"))\n",
        "  inches: float=(inches_in_feet*feet)\n",
        "  print(f\"{feet} feet is equal to {inches} inches\")\n",
        "\n",
        "if __name__ == '__main__':\n",
        "  inc_feet()\n"
      ],
      "metadata": {
        "colab": {
          "base_uri": "https://localhost:8080/"
        },
        "id": "xFosK6UyQS6z",
        "outputId": "f3948d8a-3819-4d53-8516-34429315a90c"
      },
      "execution_count": null,
      "outputs": [
        {
          "output_type": "stream",
          "name": "stdout",
          "text": [
            "03_feet_to_inches\n",
            "Enter number of feet: 12\n",
            "12.0 feet is equal to 144.0 inches\n"
          ]
        }
      ]
    },
    {
      "cell_type": "code",
      "source": [
        "import math\n",
        "print(\"04_pythagorean_theorem\")\n",
        "\n",
        "def pythagorean_theorem():\n",
        "  AB:float= float(input(\"Enter the length of AB:\"))\n",
        "  AC:float= float(input(\"Enter the length of AC:\"))\n",
        "  BC: float=math.sqrt(AB**2+AC**2)\n",
        "\n",
        "  print(\"Enter the length of BC (the hypotenuse) is:\", BC)\n",
        "\n",
        "\n",
        "if __name__ == '__main__':\n",
        "  pythagorean_theorem()"
      ],
      "metadata": {
        "colab": {
          "base_uri": "https://localhost:8080/"
        },
        "id": "4sGyO22ZU7-t",
        "outputId": "c0d2a69f-d0c3-4b31-ce48-0a69137f02e8"
      },
      "execution_count": null,
      "outputs": [
        {
          "output_type": "stream",
          "name": "stdout",
          "text": [
            "04_pythagorean_theorem\n",
            "Enter the length of AB:3\n",
            "Enter the length of AC:4\n",
            "Enter the length of BC (the hypotenuse) is: 5.0\n"
          ]
        }
      ]
    },
    {
      "cell_type": "code",
      "source": [
        "print(\"05_remainder_division\")\n",
        "\n",
        "def remainder_division():\n",
        "    dividend: int = int(input(\"Please enter an integer to be divided: \"))\n",
        "    divisor: int = int(input(\"Please enter an integer to divide by: \"))\n",
        "\n",
        "    quotient: int = dividend // divisor\n",
        "    remainder: int = dividend % divisor\n",
        "\n",
        "    print(f\"The result of {dividend} ÷ {divisor} is:\")\n",
        "    print(f\"Quotient = {quotient}\")\n",
        "    print(f\"Remainder = {remainder}\")\n",
        "\n",
        "if __name__ == '__main__':\n",
        "    remainder_division()\n"
      ],
      "metadata": {
        "colab": {
          "base_uri": "https://localhost:8080/"
        },
        "id": "9G_7DvVKY2rk",
        "outputId": "bcf51c7c-1ab6-4059-ea01-4b4ce8b8640b"
      },
      "execution_count": null,
      "outputs": [
        {
          "output_type": "stream",
          "name": "stdout",
          "text": [
            "05_remainder_division\n",
            "Please enter an integer to be divided: 21\n",
            "Please enter an integer to divide by: 5\n",
            "The result of 21 ÷ 5 is:\n",
            "Quotient = 4\n",
            "Remainder = 1\n"
          ]
        }
      ]
    },
    {
      "cell_type": "code",
      "source": [
        "\n",
        "import random\n",
        "print(\"06_rolldice\")\n",
        "\n",
        "NUM_SIDES: int = 6\n",
        "\n",
        "def dics():\n",
        "    die1: int = random.randint(1, NUM_SIDES)\n",
        "    die2: int = random.randint(1, NUM_SIDES)\n",
        "\n",
        "    # Get their total\n",
        "    total: int = die1 + die2\n",
        "\n",
        "    # Print out the results\n",
        "    print(\"Dice have\", NUM_SIDES, \"sides each.\")\n",
        "    print(\"First die:\", die1)\n",
        "    print(\"Second die:\", die2)\n",
        "    print(\"Total of two dice:\", total)\n",
        "\n",
        "if __name__ == '__main__':\n",
        "    dics()\n"
      ],
      "metadata": {
        "colab": {
          "base_uri": "https://localhost:8080/"
        },
        "id": "swl3n8EtlNU2",
        "outputId": "28815062-bed0-4916-faf2-174927278365"
      },
      "execution_count": null,
      "outputs": [
        {
          "output_type": "stream",
          "name": "stdout",
          "text": [
            "06_rolldice\n",
            "Dice have 6 sides each.\n",
            "First die: 2\n",
            "Second die: 3\n",
            "Total of two dice: 5\n"
          ]
        }
      ]
    },
    {
      "cell_type": "code",
      "source": [
        "print(\"07_seconds_in_year\")\n",
        "days_in_year: int = 365\n",
        "hours_in_day: int = 24\n",
        "min_in_hours: int = 60\n",
        "sec_in_min: int = 60\n",
        "\n",
        "def seconds_in_year():\n",
        "    total_seconds = days_in_year * hours_in_day * min_in_hours * sec_in_min\n",
        "    print(f\"There are {total_seconds} seconds in a year.\")\n",
        "\n",
        "if __name__ == '__main__':\n",
        "    seconds_in_year()\n"
      ],
      "metadata": {
        "colab": {
          "base_uri": "https://localhost:8080/"
        },
        "id": "QiOCfBuohjxf",
        "outputId": "5e75b088-9463-4a9f-e5cd-305ce486082a"
      },
      "execution_count": null,
      "outputs": [
        {
          "output_type": "stream",
          "name": "stdout",
          "text": [
            "06_seconds_in_year\n",
            "There are 31536000 seconds in a year.\n"
          ]
        }
      ]
    },
    {
      "cell_type": "code",
      "source": [
        "print(\"08_tiny_mad_lib\")\n",
        "SENTENCE_START:str=\"Code in Place is fun. I learned to program and used Python to make my\"\n",
        "\n",
        "def mad_lib():\n",
        "  adjective:str=str(input(\"Please type an adjective and press enter:\"))\n",
        "  noun:str=str(input(\"Please type an noun and press enter:\"))\n",
        "  verb:str=str(input(\"Please type an verb and press enter:\"))\n",
        "\n",
        "  print(SENTENCE_START ,\"\"+  adjective, \"\"+ noun, \"\" + verb , \"!\")\n",
        "\n",
        "if __name__ == '__main__':\n",
        "    mad_lib()"
      ],
      "metadata": {
        "colab": {
          "base_uri": "https://localhost:8080/"
        },
        "id": "eeZl7krAcv8j",
        "outputId": "c8ef36b9-61c3-4500-e94b-3e6e06057ac9"
      },
      "execution_count": null,
      "outputs": [
        {
          "output_type": "stream",
          "name": "stdout",
          "text": [
            "07_tiny_mad_lib\n",
            "Please type an adjective and press enter:5+\n",
            "Please type an noun and press enter:\n",
            "Please type an verb and press enter:5\n",
            "Code in Place is fun. I learned to program and used Python to make my 5+  5 !\n"
          ]
        }
      ]
    }
  ]
}