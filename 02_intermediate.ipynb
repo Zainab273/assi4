{
  "nbformat": 4,
  "nbformat_minor": 0,
  "metadata": {
    "colab": {
      "provenance": [],
      "include_colab_link": true
    },
    "kernelspec": {
      "name": "python3",
      "display_name": "Python 3"
    },
    "language_info": {
      "name": "python"
    }
  },
  "cells": [
    {
      "cell_type": "markdown",
      "metadata": {
        "id": "view-in-github",
        "colab_type": "text"
      },
      "source": [
        "<a href=\"https://colab.research.google.com/github/Zainab273/assi4/blob/main/02_intermediate.ipynb\" target=\"_parent\"><img src=\"https://colab.research.google.com/assets/colab-badge.svg\" alt=\"Open In Colab\"/></a>"
      ]
    },
    {
      "cell_type": "code",
      "execution_count": null,
      "metadata": {
        "id": "YJFHvkh2t-Mm",
        "colab": {
          "base_uri": "https://localhost:8080/"
        },
        "outputId": "f50d07df-35a6-4900-c030-fcab8101b6f4"
      },
      "outputs": [
        {
          "output_type": "stream",
          "name": "stdout",
          "text": [
            "Control Flow for Console \n",
            "handout\n",
            "Welcome to the High-Low Game!🎮\n",
            "Try to guess if your number is higher or lower than the computer's.\n",
            "\n",
            "Round 1\n",
            "Your Number is 56\n",
            "Is your number higher or lower than the computer number? higher\n",
            "❌ Incorrect, the computer number is 61\n",
            "Your score is 0\n",
            "\n",
            "Round 2\n",
            "Your Number is 31\n",
            "Is your number higher or lower than the computer number? higher\n",
            "✅ You were right! The computer number is 22\n",
            "Your score is 1\n",
            "\n",
            "Round 3\n",
            "Your Number is 10\n",
            "Is your number higher or lower than the computer number? lower\n",
            "✅ You were right! The computer number is 18\n",
            "Your score is 2\n",
            "\n",
            "Round 4\n",
            "Your Number is 95\n",
            "Is your number higher or lower than the computer number? higher\n",
            "✅ You were right! The computer number is 44\n",
            "Your score is 3\n",
            "\n",
            "Round 5\n",
            "Your Number is 88\n",
            "Is your number higher or lower than the computer number? lower\n",
            "❌ Incorrect, the computer number is 56\n",
            "Your score is 3\n",
            "\n",
            "🎉 Game Over! Your final score is 3 / 5\n"
          ]
        }
      ],
      "source": [
        "print(\"Control Flow for Console \\nhandout\")\n",
        "\n",
        "import random\n",
        "total_round = 5\n",
        "\n",
        "def main():\n",
        "    print(\"Welcome to the High-Low Game!🎮\")\n",
        "    print(\"Try to guess if your number is higher or lower than the computer's.\\n\")\n",
        "\n",
        "    score = 0\n",
        "\n",
        "    for i in range(total_round):\n",
        "        print(f\"Round {i + 1}\")\n",
        "\n",
        "        computer_number = random.randint(1, 100)\n",
        "        your_number = random.randint(1, 100)\n",
        "        print(\"Your Number is\", your_number)\n",
        "\n",
        "        choise = input(\"Is your number higher or lower than the computer number? \").strip().lower()\n",
        "\n",
        "        higher_and_correct = your_number > computer_number and choise == \"higher\"\n",
        "        lower_and_correct = your_number < computer_number and choise == \"lower\"\n",
        "\n",
        "        if higher_and_correct or lower_and_correct:\n",
        "            print(\"✅ You were right! The computer number is\", computer_number)\n",
        "            score += 1\n",
        "        else:\n",
        "            print(\"❌ Incorrect, the computer number is\", computer_number)\n",
        "\n",
        "        print(\"Your score is\", score)\n",
        "        print()\n",
        "\n",
        "    print(\"🎉 Game Over! Your final score is\", score, \"/\", total_round)\n",
        "\n",
        "if __name__ == \"__main__\":\n",
        "    main()\n"
      ]
    },
    {
      "cell_type": "code",
      "source": [
        "print(\"Intro to Python \\nPlanetary Weight Calculator\")\n",
        "\n",
        "def main():\n",
        "    print(\"Welcome to the Planetary Weight Calculator!\")\n",
        "\n",
        "earth_weight=float(input(\"Enter your weight\"))\n",
        "\n",
        "gravity_ratio={\n",
        "    \"Mercury\":0.38,\n",
        "    \"Venus\":0.91,\n",
        "    \"Mars\":0.38,\n",
        "    \"Jupiter\":2.34,\n",
        "    \"saturn\":1.06,\n",
        "    \"Uranus\":0.92,\n",
        "    \"Neptune\":1.19\n",
        "}\n",
        "\n",
        "print(\"\\n select any plannet\")\n",
        "for planet in gravity_ratio:\n",
        "    print(f'- {planet}')\n",
        "\n",
        "planet_choice = input(\"Enter the name of the planet: \").strip().title()\n",
        "\n",
        "if planet_choice in gravity_ratio:\n",
        "    weight_on_planet = earth_weight * gravity_ratio[planet_choice]\n",
        "print(f'your weight in {planet_choice} is {weight_on_planet:.2f}')\n",
        "\n"
      ],
      "metadata": {
        "colab": {
          "base_uri": "https://localhost:8080/"
        },
        "id": "Tg1RhtoV5KMg",
        "outputId": "60c4183e-11a4-4b73-c56d-ededdafa79f9"
      },
      "execution_count": null,
      "outputs": [
        {
          "output_type": "stream",
          "name": "stdout",
          "text": [
            "Intro to Python \n",
            "Planetary Weight Calculator\n",
            "Enter your weight12\n",
            "\n",
            " select any plannet\n",
            "- Mercury\n",
            "- Venus\n",
            "- Mars\n",
            "- Jupiter\n",
            "- saturn\n",
            "- Uranus\n",
            "- Neptune\n",
            "Enter the name of the planet: mars\n",
            "your weight in Mars is 4.56\n"
          ]
        }
      ]
    },
    {
      "cell_type": "code",
      "source": [
        "print(\"Lists and Dicts \\nList Practice\")\n",
        "\n",
        "def main():\n",
        "  fruit_list=[\n",
        "      'apple',\n",
        "      'banana',\n",
        "      'cherry',\n",
        "      'date',\n",
        "      'elderberry',\n",
        "      'fig',\n",
        "      'grape',\n",
        "      'honeydew',\n",
        "      'kiwi',\n",
        "      'lemon'\n",
        "  ]\n",
        "\n",
        "  print(\"Length of the list is\", len(fruit_list))\n",
        "  print(\"List before append: \" , fruit_list)\n",
        "\n",
        "  fruit_list.append('mango')\n",
        "  print(\"Length of the list after append: \", len(fruit_list))\n",
        "\n",
        "  print(\"List after append: \", fruit_list)\n",
        "\n",
        "if __name__ =='__main__':\n",
        "  main()"
      ],
      "metadata": {
        "colab": {
          "base_uri": "https://localhost:8080/"
        },
        "id": "vCZtRyxRAtPj",
        "outputId": "48e756ca-8d84-4e2f-f6d0-5d1b086ec06a"
      },
      "execution_count": null,
      "outputs": [
        {
          "output_type": "stream",
          "name": "stdout",
          "text": [
            "Lists and Dicts \n",
            "List Practice\n",
            "Length of the list is 10\n",
            "List before append:  ['apple', 'banana', 'cherry', 'date', 'elderberry', 'fig', 'grape', 'honeydew', 'kiwi', 'lemon']\n",
            "Length of the list after append:  11\n",
            "List after append:  ['apple', 'banana', 'cherry', 'date', 'elderberry', 'fig', 'grape', 'honeydew', 'kiwi', 'lemon', 'mango']\n"
          ]
        }
      ]
    },
    {
      "cell_type": "code",
      "source": [
        "def access_element(lst, index):\n",
        "    if 0 <= index < len(lst):\n",
        "        return lst[index]\n",
        "    else:\n",
        "        return \"Index out of range!\"\n",
        "\n",
        "def modify_element(lst, index, new_value):\n",
        "    if 0 <= index < len(lst):\n",
        "        lst[index] = new_value\n",
        "        return \"Element updated successfully!\"\n",
        "    else:\n",
        "        return \"Index out of range!\"\n",
        "\n",
        "def slice_list(lst, start, end):\n",
        "    if start < 0 or end > len(lst):\n",
        "        return \"Start or end index is out of range!\"\n",
        "    return lst[start:end]\n",
        "\n",
        "def main():\n",
        "    my_list = ['apple', 'banana', 'cherry', 'date', 'elderberry']\n",
        "\n",
        "    print(\"🍇 Welcome to the List Practice Game!\")\n",
        "    print(\"Your starting list is:\", my_list)\n",
        "\n",
        "    while True:\n",
        "        print(\"\\nChoose an operation:\")\n",
        "        print(\"1. Access an element\")\n",
        "        print(\"2. Modify an element\")\n",
        "        print(\"3. Slice the list\")\n",
        "        print(\"4. Exit\")\n",
        "\n",
        "        choice = input(\"Enter your choice (1-4): \").strip()\n",
        "\n",
        "        if choice == \"1\":\n",
        "            try:\n",
        "                index = int(input(\"Enter the index to access: \"))\n",
        "                result = access_element(my_list, index)\n",
        "                print(\"Result:\", result)\n",
        "            except ValueError:\n",
        "                print(\"Please enter a valid number.\")\n",
        "\n",
        "        elif choice == \"2\":\n",
        "            try:\n",
        "                index = int(input(\"Enter the index to modify: \"))\n",
        "                new_value = input(\"Enter the new value: \")\n",
        "                result = modify_element(my_list, index, new_value)\n",
        "                print(result)\n",
        "                print(\"Updated List:\", my_list)\n",
        "            except ValueError:\n",
        "                print(\"Please enter a valid number.\")\n",
        "\n",
        "        elif choice == \"3\":\n",
        "            try:\n",
        "                start = int(input(\"Enter the start index: \"))\n",
        "                end = int(input(\"Enter the end index: \"))\n",
        "                result = slice_list(my_list, start, end)\n",
        "                print(\"Sliced List:\", result)\n",
        "            except ValueError:\n",
        "                print(\"Please enter valid numbers.\")\n",
        "\n",
        "        elif choice == \"4\":\n",
        "            print(\"👋 Exiting the game. Goodbye!\")\n",
        "            print(\"updated list:\" , my_list)\n",
        "\n",
        "            break\n",
        "        else:\n",
        "            print(\"Invalid choice! Please select from 1 to 4.\")\n",
        "\n",
        "\n",
        "\n",
        "if __name__ == \"__main__\":\n",
        "    main()"
      ],
      "metadata": {
        "colab": {
          "base_uri": "https://localhost:8080/"
        },
        "id": "baHJFER9D5aF",
        "outputId": "0f817871-0a25-46c6-eff5-ee526d6ebe73"
      },
      "execution_count": null,
      "outputs": [
        {
          "output_type": "stream",
          "name": "stdout",
          "text": [
            "🍇 Welcome to the List Practice Game!\n",
            "Your starting list is: ['apple', 'banana', 'cherry', 'date', 'elderberry']\n",
            "\n",
            "Choose an operation:\n",
            "1. Access an element\n",
            "2. Modify an element\n",
            "3. Slice the list\n",
            "4. Exit\n",
            "Enter your choice (1-4): 4\n",
            "👋 Exiting the game. Goodbye!\n",
            "updated list: ['apple', 'banana', 'cherry', 'date', 'elderberry']\n"
          ]
        }
      ]
    }
  ]
}