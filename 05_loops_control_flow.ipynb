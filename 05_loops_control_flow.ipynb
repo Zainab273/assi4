{
  "nbformat": 4,
  "nbformat_minor": 0,
  "metadata": {
    "colab": {
      "provenance": [],
      "include_colab_link": true
    },
    "kernelspec": {
      "name": "python3",
      "display_name": "Python 3"
    },
    "language_info": {
      "name": "python"
    }
  },
  "cells": [
    {
      "cell_type": "markdown",
      "metadata": {
        "id": "view-in-github",
        "colab_type": "text"
      },
      "source": [
        "<a href=\"https://colab.research.google.com/github/Zainab273/assi4/blob/main/05_loops_control_flow.ipynb\" target=\"_parent\"><img src=\"https://colab.research.google.com/assets/colab-badge.svg\" alt=\"Open In Colab\"/></a>"
      ]
    },
    {
      "cell_type": "code",
      "execution_count": null,
      "metadata": {
        "colab": {
          "base_uri": "https://localhost:8080/"
        },
        "id": "UVrXmf778xl4",
        "outputId": "029c64cb-e8db-47cf-e3ad-2f3d3a39987d"
      },
      "outputs": [
        {
          "output_type": "stream",
          "name": "stdout",
          "text": [
            "00_guess_my_number\n",
            "Welcome to the number guessing game!\n",
            "I'm thinking of a number between 1 and 100.\n",
            "Take a guess:80\n",
            "Opps! Your guess is Too High! Keep trying\n",
            "Take a guess:70\n",
            "Opps! Your guess is Too High! Keep trying\n",
            "Take a guess:60\n",
            "your guess is Too Low! Try again\n",
            "Take a guess:65\n",
            "Opps! Your guess is Too High! Keep trying\n",
            "Take a guess:62\n",
            "Opps! Your guess is Too High! Keep trying\n",
            "Take a guess:61\n",
            "Congracts! the number was 61\n"
          ]
        }
      ],
      "source": [
        "import random\n",
        "\n",
        "print(\"00_guess_my_number\")\n",
        "\n",
        "secret_numbet=random.randint(1,100)\n",
        "\n",
        "print(\"Welcome to the number guessing game!\")\n",
        "print(\"I'm thinking of a number between 1 and 100.\")\n",
        "\n",
        "def guess_numbers():\n",
        "    while True:\n",
        "            guess=int(input(\"Take a guess:\"))\n",
        "            if guess<secret_numbet:\n",
        "              print(\"your guess is Too Low! Try again\")\n",
        "            elif guess>secret_numbet:\n",
        "              print(\"Opps! Your guess is Too High! Keep trying\")\n",
        "            elif guess==secret_numbet:\n",
        "              print(\"Congracts! the number was \" + str(secret_numbet))\n",
        "              break\n",
        "\n",
        "if __name__ == \"__main__\":\n",
        "    guess_numbers()"
      ]
    },
    {
      "cell_type": "code",
      "source": [
        "print(\"01_fibonacci\")\n",
        "\n",
        "MAX_TERM_VALUE=10000\n",
        "def fib(MAX_TERM_VALUE):\n",
        "  curr_num = 0\n",
        "  next_num = 1\n",
        "  while curr_num <= MAX_TERM_VALUE:\n",
        "    print(curr_num)\n",
        "    curr_num, next_num = next_num, curr_num + next_num\n",
        "\n",
        "if __name__ == \"__main__\":\n",
        "    fib(MAX_TERM_VALUE)\n",
        "\n",
        "\n",
        "\n"
      ],
      "metadata": {
        "colab": {
          "base_uri": "https://localhost:8080/"
        },
        "id": "eObWHBW5Aaj6",
        "outputId": "3e0e92cf-b5c5-4bad-fd46-dc61ea5f7cef"
      },
      "execution_count": null,
      "outputs": [
        {
          "output_type": "stream",
          "name": "stdout",
          "text": [
            "01_fibonacci\n",
            "0\n",
            "1\n",
            "1\n",
            "2\n",
            "3\n",
            "5\n",
            "8\n",
            "13\n",
            "21\n",
            "34\n",
            "55\n",
            "89\n",
            "144\n",
            "233\n",
            "377\n",
            "610\n",
            "987\n",
            "1597\n",
            "2584\n",
            "4181\n",
            "6765\n"
          ]
        }
      ]
    },
    {
      "cell_type": "code",
      "source": [
        "print(\"02_print_events\")\n",
        "\n",
        "def even_number_20():\n",
        "    for i in range(20):\n",
        "        print(i * 2, end=' ')\n",
        "\n",
        "def main():\n",
        "    even_number_20()\n",
        "\n",
        "if __name__ == \"__main__\":\n",
        "    main()\n"
      ],
      "metadata": {
        "colab": {
          "base_uri": "https://localhost:8080/"
        },
        "id": "DkE89h6pC6IS",
        "outputId": "d305bb67-8d91-4256-f544-22dda1028863"
      },
      "execution_count": null,
      "outputs": [
        {
          "output_type": "stream",
          "name": "stdout",
          "text": [
            "02_print_events\n",
            "0 2 4 6 8 10 12 14 16 18 20 22 24 26 28 30 32 34 36 38 "
          ]
        }
      ]
    },
    {
      "cell_type": "code",
      "source": [
        "print(\"03_wholesome_machine\")\n",
        "\n",
        "AFFIRMATION = \"I am capable of doing anything I put my mind to.\"\n",
        "\n",
        "def main():\n",
        "    print(\"Welcome to the Wholesome Machine\")\n",
        "    while True:\n",
        "        print(\"Please type the following affirmation:\")\n",
        "        user_input = input()\n",
        "\n",
        "        if user_input == AFFIRMATION:\n",
        "            print(\"That's right! :)\")\n",
        "            break\n",
        "        else:\n",
        "            print(\"Hmmm That was not the affirmation.\")\n",
        "\n",
        "if __name__ == \"__main__\":\n",
        "    main()\n"
      ],
      "metadata": {
        "colab": {
          "base_uri": "https://localhost:8080/"
        },
        "id": "AaeADmoAE3zU",
        "outputId": "a695ef04-f32b-4523-817b-1968e96a3ae1"
      },
      "execution_count": null,
      "outputs": [
        {
          "output_type": "stream",
          "name": "stdout",
          "text": [
            "03_wholesome_machine\n",
            "Welcome to the Wholesome Machine\n",
            "Please type the following affirmation:\n",
            "ds\\\n",
            "Hmmm That was not the affirmation.\n",
            "Please type the following affirmation:\n",
            "I am capable of doing anything I put my mind to.\n",
            "That's right! :)\n"
          ]
        }
      ]
    },
    {
      "cell_type": "code",
      "source": [
        "print(\"04_liftoff\")\n",
        "\n",
        "def main():\n",
        "  for i in range(10):\n",
        "    print(10-i, end=' ')\n",
        "  print(\"Liftoff!\")\n",
        "\n",
        "if __name__ == '__main__':\n",
        "  main()"
      ],
      "metadata": {
        "colab": {
          "base_uri": "https://localhost:8080/"
        },
        "id": "caYoHJ3oW9dh",
        "outputId": "cfb0daff-063a-4237-a3ca-e1f935f8e57d"
      },
      "execution_count": null,
      "outputs": [
        {
          "output_type": "stream",
          "name": "stdout",
          "text": [
            "04_liftoff\n",
            "10 9 8 7 6 5 4 3 2 1 Liftoff!\n"
          ]
        }
      ]
    },
    {
      "cell_type": "code",
      "source": [
        "print(\"05_double_it\")\n",
        "\n",
        "def main():\n",
        "    while True:\n",
        "        user_input = input(\"Please enter a number (or exit to quit): \")\n",
        "\n",
        "        if user_input.lower() == '':\n",
        "            break\n",
        "\n",
        "        try:\n",
        "            number = float(user_input)\n",
        "            print(\"Double is:\", number * 2)\n",
        "        except ValueError:\n",
        "            print(\"That's not a valid number. Try again.\")\n",
        "\n",
        "if __name__ == '__main__':\n",
        "    main()\n"
      ],
      "metadata": {
        "colab": {
          "base_uri": "https://localhost:8080/"
        },
        "id": "xUuHhtpWYaKd",
        "outputId": "591c51d1-fc91-4c8d-829a-eb8793b6eb96"
      },
      "execution_count": null,
      "outputs": [
        {
          "name": "stdout",
          "output_type": "stream",
          "text": [
            "05_double_it\n",
            "Please enter a number (or exit to quit): 1\n",
            "Double is: 2.0\n",
            "Please enter a number (or exit to quit): 5\n",
            "Double is: 10.0\n",
            "Please enter a number (or exit to quit): 8\n",
            "Double is: 16.0\n",
            "Please enter a number (or exit to quit): 4\n",
            "Double is: 8.0\n",
            "Please enter a number (or exit to quit): \n"
          ]
        }
      ]
    }
  ]
}