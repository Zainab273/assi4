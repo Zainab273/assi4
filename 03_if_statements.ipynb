{
  "nbformat": 4,
  "nbformat_minor": 0,
  "metadata": {
    "colab": {
      "provenance": [],
      "include_colab_link": true
    },
    "kernelspec": {
      "name": "python3",
      "display_name": "Python 3"
    },
    "language_info": {
      "name": "python"
    }
  },
  "cells": [
    {
      "cell_type": "markdown",
      "metadata": {
        "id": "view-in-github",
        "colab_type": "text"
      },
      "source": [
        "<a href=\"https://colab.research.google.com/github/Zainab273/assi4/blob/main/03_if_statements.ipynb\" target=\"_parent\"><img src=\"https://colab.research.google.com/assets/colab-badge.svg\" alt=\"Open In Colab\"/></a>"
      ]
    },
    {
      "cell_type": "code",
      "execution_count": null,
      "metadata": {
        "colab": {
          "base_uri": "https://localhost:8080/"
        },
        "id": "pzUgyolkYwE_",
        "outputId": "5211a5a5-08dd-49fe-c3b4-ce65c1d3d437"
      },
      "outputs": [
        {
          "output_type": "stream",
          "name": "stdout",
          "text": [
            "01_print_events\n",
            "The first even number is 0:\n",
            "0 1 2 3 4 5 6 7 8 9 10 11 12 13 14 15 16 17 18 19 20 21 22 23 24 25 26 27 28 29 30 31 32 33 34 35 36 37 38 39 "
          ]
        }
      ],
      "source": [
        "print(\"01_print_events\")\n",
        "\n",
        "def even():\n",
        "    print(\"The first even number is 0:\")\n",
        "    for i in range(40):\n",
        "        print(i, end=' ')\n",
        "\n",
        "if __name__ == '__main__':\n",
        "    even()\n"
      ]
    },
    {
      "cell_type": "code",
      "source": [
        "print(\"02_international_voting_age\")\n",
        "Peturksbouipo:int=16\n",
        "Stanlau:int=25\n",
        "Mayengua:int=48\n",
        "\n",
        "def voting():\n",
        "  user_age = int(input(\"How old are you? \"))\n",
        "\n",
        "  if user_age>=Peturksbouipo:\n",
        "    print(\" You can vote in Peturksbouipo where the voting age is 16\")\n",
        "  else:\n",
        "    print(\" You can not vote in Peturksbouipo\")\n",
        "\n",
        "  if user_age>=Stanlau:\n",
        "    print(\" You can vote in Stanlau where the voting age is 25\")\n",
        "  else:\n",
        "    print(\" You can not vote in Stanlau\")\n",
        "\n",
        "  if user_age>=Mayengua:\n",
        "    print(\" You can vote in Mayengua where the voting age is 48\")\n",
        "  else:\n",
        "    print(\" You can not vote in Mayengua\")\n",
        "\n",
        "if __name__ == '__main__':\n",
        "    voting()"
      ],
      "metadata": {
        "colab": {
          "base_uri": "https://localhost:8080/"
        },
        "id": "gZDsymkecTqD",
        "outputId": "065554db-2c36-4491-e812-5b1d8d8f8561"
      },
      "execution_count": null,
      "outputs": [
        {
          "output_type": "stream",
          "name": "stdout",
          "text": [
            "02_international_voting_age\n",
            "How old are you? 85\n",
            " You can vote in Peturksbouipo where the voting age is 16\n",
            " You can vote in Stanlau where the voting age is 25\n",
            " You can vote in Mayengua where the voting age is 48\n"
          ]
        }
      ]
    },
    {
      "cell_type": "code",
      "source": [
        "print(\"Leap Year Checker\")\n",
        "\n",
        "def main():\n",
        "    leap_year = int(input(\"Enter a valid year (e.g., 2000, 2006, 2024): \"))\n",
        "\n",
        "    if leap_year % 4 == 0:\n",
        "        if leap_year % 100 == 0:\n",
        "            if leap_year % 400 == 0:\n",
        "                print(leap_year, \"is a leap year!\")\n",
        "            else:\n",
        "                print(leap_year, \"is not a leap year.\")\n",
        "        else:\n",
        "            print(leap_year, \"is a leap year!\")\n",
        "    else:\n",
        "        print(leap_year, \"is not a leap year.\")\n",
        "\n",
        "if __name__ == '__main__':\n",
        "    main()\n"
      ],
      "metadata": {
        "colab": {
          "base_uri": "https://localhost:8080/"
        },
        "id": "eZABhN5lgURL",
        "outputId": "ddc7c6d1-2138-4980-9ef0-e77f00b79ffc"
      },
      "execution_count": null,
      "outputs": [
        {
          "output_type": "stream",
          "name": "stdout",
          "text": [
            "Leap Year Checker\n",
            "Enter a valid year (e.g., 2000, 2006, 2024): 3005\n",
            "3005 is not a leap year.\n"
          ]
        }
      ]
    },
    {
      "cell_type": "code",
      "source": [
        "print(\"04_tall_enough_to_ride\")\n",
        "\n",
        "def check_height_loop():\n",
        "    while True:\n",
        "        height = input(\"How tall are you? (Press Enter to exit): \")\n",
        "\n",
        "        if height == \"\":\n",
        "            print(\"Goodbye! 👋\")\n",
        "            break\n",
        "\n",
        "        try:\n",
        "            height = int(height)\n",
        "            if height >= 50:\n",
        "                print(\"You're tall enough to ride!\\n\")\n",
        "            else:\n",
        "                print(\"You're not tall enough to ride, but maybe next year!\\n\")\n",
        "        except ValueError:\n",
        "            print(\"Please enter a valid number.\\n\")\n",
        "\n",
        "if __name__ == '__main__':\n",
        "    check_height_loop()\n"
      ],
      "metadata": {
        "colab": {
          "base_uri": "https://localhost:8080/"
        },
        "id": "hhQF-IFPizrG",
        "outputId": "a381eef2-cf6f-4222-f46c-6d01a905f382"
      },
      "execution_count": null,
      "outputs": [
        {
          "output_type": "stream",
          "name": "stdout",
          "text": [
            "04_tall_enough_to_ride\n",
            "How tall are you? (Press Enter to exit): 20\n",
            "You're not tall enough to ride, but maybe next year!\n",
            "\n",
            "How tall are you? (Press Enter to exit): 50\n",
            "You're tall enough to ride!\n",
            "\n",
            "How tall are you? (Press Enter to exit): 3\n",
            "You're not tall enough to ride, but maybe next year!\n",
            "\n",
            "How tall are you? (Press Enter to exit): \n",
            "Goodbye! 👋\n"
          ]
        }
      ]
    },
    {
      "cell_type": "code",
      "source": [
        "print(\"05_random_numbers\")\n",
        "import random\n",
        "LENGTH :int=10\n",
        "MIN:int=1\n",
        "MAX:int=100\n",
        "\n",
        "def generate():\n",
        "  print(\"Here is 10 random numbers between 1_100\" )\n",
        "  for i in range(LENGTH):\n",
        "    print(random.randint(MIN, MAX) , end=' ')\n",
        "if __name__ == '__main__':\n",
        "    generate()"
      ],
      "metadata": {
        "colab": {
          "base_uri": "https://localhost:8080/"
        },
        "id": "-4xMiLHElisD",
        "outputId": "24d0161b-b2a6-4f90-f04b-a2ff5ab096b9"
      },
      "execution_count": null,
      "outputs": [
        {
          "output_type": "stream",
          "name": "stdout",
          "text": [
            "05_random_numbers\n",
            "Here is 10 random numbers between 1_100\n",
            "89 24 52 88 82 62 74 71 72 64 "
          ]
        }
      ]
    }
  ]
}