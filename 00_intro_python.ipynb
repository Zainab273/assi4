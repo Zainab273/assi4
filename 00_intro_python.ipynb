{
  "nbformat": 4,
  "nbformat_minor": 0,
  "metadata": {
    "colab": {
      "provenance": [],
      "include_colab_link": true
    },
    "kernelspec": {
      "name": "python3",
      "display_name": "Python 3"
    },
    "language_info": {
      "name": "python"
    }
  },
  "cells": [
    {
      "cell_type": "markdown",
      "metadata": {
        "id": "view-in-github",
        "colab_type": "text"
      },
      "source": [
        "<a href=\"https://colab.research.google.com/github/Zainab273/assi4/blob/main/00_intro_python.ipynb\" target=\"_parent\"><img src=\"https://colab.research.google.com/assets/colab-badge.svg\" alt=\"Open In Colab\"/></a>"
      ]
    },
    {
      "cell_type": "code",
      "execution_count": null,
      "metadata": {
        "colab": {
          "base_uri": "https://localhost:8080/"
        },
        "id": "zR2RzdM8zMwD",
        "outputId": "6e3808ce-9694-4672-afc5-69192d5d0791"
      },
      "outputs": [
        {
          "output_type": "stream",
          "name": "stdout",
          "text": [
            "01_add_two_numbers\n",
            "This application is for adding two numbers\n",
            "Enter your first number5\n",
            "Enter your second number5\n",
            "The total sum of 5 & 5 is 10\n"
          ]
        }
      ],
      "source": [
        "print(\"01_add_two_numbers\")\n",
        "\n",
        "def add():\n",
        "  print(\"This application is for adding two numbers\")\n",
        "  first_number = int(input(\"Enter your first number\"))\n",
        "  second_number = int(input(\"Enter your second number\"))\n",
        "  total = int(first_number+second_number)\n",
        "  print(f'The total sum of {first_number} & {second_number} is {total}')\n",
        "\n",
        "\n",
        "if __name__ == \"__main__\":\n",
        "  add()\n"
      ]
    },
    {
      "cell_type": "code",
      "source": [
        "print(\"02_agreement_bot\")\n",
        "\n",
        "def bot():\n",
        "  print(\"This application is for asks the user what their favorite animal\")\n",
        "  question = str(input(\"What's your favorite animal?\"))\n",
        "  print(f'My favorite animal is also {question}!')\n",
        "\n",
        "if __name__ == \"__main__\":\n",
        "  bot()"
      ],
      "metadata": {
        "colab": {
          "base_uri": "https://localhost:8080/"
        },
        "id": "oVNGoB4A1xgC",
        "outputId": "cbdb6745-5b8e-4f2e-9200-972b325c9fa0"
      },
      "execution_count": null,
      "outputs": [
        {
          "output_type": "stream",
          "name": "stdout",
          "text": [
            "02_agreement_bot\n",
            "This application is for asks the user what their favorite animal\n",
            "What's your favorite animal?cow\n",
            "My favorite animal is also cow!\n"
          ]
        }
      ]
    },
    {
      "cell_type": "code",
      "source": [
        "print(\"03_fahrenheit_to_celsius\")\n",
        "\n",
        "def convert():\n",
        "  print(\"This application is for convert farenheit to celsius\")\n",
        "  degrees_fahrenheit = float(input(\"Enter temperature in Fahrenheit:\"))\n",
        "  degrees_celsius = (degrees_fahrenheit - 32) *5.0/9.0\n",
        "  print(f'Temperature:{degrees_fahrenheit}F={degrees_celsius}C')\n",
        "\n",
        "if __name__ == \"__main__\":\n",
        "  convert()"
      ],
      "metadata": {
        "colab": {
          "base_uri": "https://localhost:8080/"
        },
        "id": "T3mHhat_3znk",
        "outputId": "6cfbb988-515a-431d-cb64-125f38b43ce1"
      },
      "execution_count": null,
      "outputs": [
        {
          "output_type": "stream",
          "name": "stdout",
          "text": [
            "03_fahrenheit_to_celsius\n",
            "This application is for convert farenheit to celsius\n",
            "Enter temperature in Fahrenheit:13\n",
            "Temperature:13.0F=-10.555555555555555C\n"
          ]
        }
      ]
    },
    {
      "cell_type": "code",
      "source": [
        "print(\"This application is for 04_how_old_are_they\")\n",
        "def age():\n",
        "  anton : int = 21\n",
        "  beth : int = anton+6\n",
        "  chen : int = beth + 20\n",
        "  drew : int = chen + anton\n",
        "  ethan: int = chen\n",
        "  print(\"Anton is \" + str(anton))\n",
        "  print(\"Beth is \" + str(beth))\n",
        "  print(\"Chen is \" + str(chen))\n",
        "  print(\"Drew is \" + str(drew))\n",
        "  print(\"Ethan is \" + str(ethan))\n",
        "\n",
        "if __name__ == \"__main__\":\n",
        "  age()"
      ],
      "metadata": {
        "colab": {
          "base_uri": "https://localhost:8080/"
        },
        "id": "WK28hXFoMP0H",
        "outputId": "e3e82db1-a539-4288-ca23-adf799e0b084"
      },
      "execution_count": null,
      "outputs": [
        {
          "output_type": "stream",
          "name": "stdout",
          "text": [
            "This application is for 04_how_old_are_they\n",
            "Anton is 21\n",
            "Beth is 27\n",
            "Chen is 47\n",
            "Drew is 68\n",
            "Ethan is 47\n"
          ]
        }
      ]
    },
    {
      "cell_type": "code",
      "source": [
        "print(\"05_triangle_perimeter\")\n",
        "def perimeter():\n",
        "  side1= float(input(\"What is the length of side 1?\"))\n",
        "  side2= float(input(\"What is the length of side 2?\"))\n",
        "  side3= float(input(\"What is the length of side 3?\"))\n",
        "  print(\"The perimeter of the triangle is \"+ str(side1+side2+side3))\n",
        "\n",
        "if __name__ == '__main__':\n",
        "  perimeter()\n"
      ],
      "metadata": {
        "colab": {
          "base_uri": "https://localhost:8080/"
        },
        "id": "5_c4LDfbRBVQ",
        "outputId": "319f40d7-a589-45ea-be84-ab94b7d7a1e1"
      },
      "execution_count": null,
      "outputs": [
        {
          "output_type": "stream",
          "name": "stdout",
          "text": [
            "05_triangle_perimeter\n",
            "What is the length of side 1?2\n",
            "What is the length of side 2?2\n",
            "What is the length of side 3?2\n",
            "The perimeter of the triangle is 6.0\n"
          ]
        }
      ]
    },
    {
      "cell_type": "code",
      "source": [
        "print(\"06_square_number\")\n",
        "\n",
        "def square():\n",
        "  number: float =float(input(\"Type a number to see its square:\"))\n",
        "  square = number**2\n",
        "  print(f\"{number} squared is {square}\")\n",
        "\n",
        "if __name__ == '__main__':\n",
        "  square()"
      ],
      "metadata": {
        "colab": {
          "base_uri": "https://localhost:8080/"
        },
        "id": "yPFIkoLNSecN",
        "outputId": "bf2809f4-6e4b-4389-a42a-4c1f98e7ef63"
      },
      "execution_count": null,
      "outputs": [
        {
          "output_type": "stream",
          "name": "stdout",
          "text": [
            "06_square_number\n",
            "Type a number to see its square:2\n",
            "2.0 squared is 4.0\n"
          ]
        }
      ]
    }
  ]
}